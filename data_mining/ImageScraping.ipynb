{
 "cells": [
  {
   "cell_type": "code",
   "execution_count": 2,
   "metadata": {},
   "outputs": [],
   "source": [
    "from PIL import Image, ImageOps\n",
    "from urllib.request import urlopen\n",
    "import pandas as pd\n",
    "from tqdm import tqdm"
   ]
  },
  {
   "cell_type": "code",
   "execution_count": 84,
   "metadata": {},
   "outputs": [],
   "source": [
    "df = pd.read_csv('art_data.csv')"
   ]
  },
  {
   "cell_type": "code",
   "execution_count": 5,
   "metadata": {},
   "outputs": [
    {
     "name": "stderr",
     "output_type": "stream",
     "text": [
      " 20%|██        | 6437/31957 [11:37<52:55,  8.04it/s]  "
     ]
    },
    {
     "name": "stdout",
     "output_type": "stream",
     "text": [
      "6435\n"
     ]
    },
    {
     "name": "stderr",
     "output_type": "stream",
     "text": [
      " 37%|███▋      | 11839/31957 [31:55<1:57:21,  2.86it/s]"
     ]
    },
    {
     "name": "stdout",
     "output_type": "stream",
     "text": [
      "11839\n"
     ]
    },
    {
     "name": "stderr",
     "output_type": "stream",
     "text": [
      "100%|██████████| 31957/31957 [1:05:55<00:00,  8.08it/s]\n"
     ]
    }
   ],
   "source": [
    "failed = []\n",
    "for ind,row in tqdm(df.iterrows(),total=31957):\n",
    "    try:\n",
    "        img = Image.open(urlopen(row['url']))\n",
    "        ImageOps.cover(img,(300,300)).save('image_data/'+str(ind)+'.jpg')\n",
    "    except:\n",
    "        print(ind)\n",
    "        failed.append(ind)"
   ]
  },
  {
   "cell_type": "code",
   "execution_count": 100,
   "metadata": {},
   "outputs": [
    {
     "data": {
      "text/plain": [
       "index                                            6436\n",
       "author                            CONTE, Jacopino del\n",
       "title           Portrait of Paul III with a Councilor\n",
       "date                                           1537.0\n",
       "url       https://www.wga.hu/art/c/conte/popepaul.jpg\n",
       "type                                         portrait\n",
       "style                                       Mannerism\n",
       "school                                        Italian\n",
       "Name: 6436, dtype: object"
      ]
     },
     "execution_count": 100,
     "metadata": {},
     "output_type": "execute_result"
    }
   ],
   "source": [
    "df.iloc[6435]"
   ]
  },
  {
   "cell_type": "code",
   "execution_count": 97,
   "metadata": {},
   "outputs": [],
   "source": [
    "df = df.drop(11839)\n",
    "df = df.drop(6435)"
   ]
  },
  {
   "cell_type": "code",
   "execution_count": 95,
   "metadata": {},
   "outputs": [
    {
     "data": {
      "text/plain": [
       "index                                                 11840\n",
       "author                                    GIOTTO di Bondone\n",
       "title                                        Vault (detail)\n",
       "date                                                 1303.0\n",
       "url       https://www.wga.hu/art/g/giotto/padova/6vault/...\n",
       "type                                              religious\n",
       "style                                              Medieval\n",
       "school                                              Italian\n",
       "Name: 11840, dtype: object"
      ]
     },
     "execution_count": 95,
     "metadata": {},
     "output_type": "execute_result"
    }
   ],
   "source": [
    "df.iloc[11839]"
   ]
  },
  {
   "cell_type": "code",
   "execution_count": 99,
   "metadata": {},
   "outputs": [],
   "source": [
    "df.to_csv(\"art_data_loaded.csv\",index=False)"
   ]
  }
 ],
 "metadata": {
  "kernelspec": {
   "display_name": "Python 3",
   "language": "python",
   "name": "python3"
  },
  "language_info": {
   "codemirror_mode": {
    "name": "ipython",
    "version": 3
   },
   "file_extension": ".py",
   "mimetype": "text/x-python",
   "name": "python",
   "nbconvert_exporter": "python",
   "pygments_lexer": "ipython3",
   "version": "3.12.5"
  }
 },
 "nbformat": 4,
 "nbformat_minor": 2
}
